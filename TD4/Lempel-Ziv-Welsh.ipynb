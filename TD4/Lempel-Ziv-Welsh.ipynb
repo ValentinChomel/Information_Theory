{
 "cells": [
  {
   "cell_type": "markdown",
   "metadata": {},
   "source": [
    "## Compression de Lempel-Ziv-Welsh\n",
    "\n",
    "Valentin Chomel - 01/02/2019"
   ]
  },
  {
   "cell_type": "code",
   "execution_count": 70,
   "metadata": {
    "collapsed": true
   },
   "outputs": [],
   "source": [
    "#Imports\n",
    "import sys\n",
    "import os\n",
    "from sys import argv\n",
    "from struct import *"
   ]
  },
  {
   "cell_type": "markdown",
   "metadata": {},
   "source": [
    "#### Début de la compression : \n",
    "\n",
    "Lecture dans le fichier texte"
   ]
  },
  {
   "cell_type": "code",
   "execution_count": 71,
   "metadata": {},
   "outputs": [],
   "source": [
    "fichier = open(\"texte.txt\", \"r\")\n",
    "input_file = fichier.read()\n",
    "\n",
    "n = len(input_file)  \n",
    "            \n",
    "maximum_table_size = pow(2,int(n))                           "
   ]
  },
  {
   "cell_type": "markdown",
   "metadata": {},
   "source": [
    "Affichage des données du fichier initial : "
   ]
  },
  {
   "cell_type": "code",
   "execution_count": 72,
   "metadata": {},
   "outputs": [],
   "source": [
    "#print(input_file)"
   ]
  },
  {
   "cell_type": "markdown",
   "metadata": {},
   "source": [
    "Construction et initialisation du dictionnaire :"
   ]
  },
  {
   "cell_type": "code",
   "execution_count": 73,
   "metadata": {
    "collapsed": true
   },
   "outputs": [],
   "source": [
    "# Initialisation du dictionnaire \n",
    "dictionary_size = 256                   \n",
    "dictionary = {chr(i): i for i in range(dictionary_size)}    \n",
    "string = \"\"             # String is null.\n",
    "compressed_data = []    # variable to store the compressed data."
   ]
  },
  {
   "cell_type": "markdown",
   "metadata": {},
   "source": [
    "##### Algorithme de compression : \n",
    "\n",
    "FONCTION LZW_Compresser(Texte, dictionnaire)\n",
    "\n",
    "    w ← \"\"\n",
    "\n",
    "    TANT QUE (il reste des caractères à lire dans Texte) FAIRE\n",
    "       c ← Lire(Texte)\n",
    "       p ← Concaténer(w, c)\n",
    "       SI Existe(p, dictionnaire) ALORS\n",
    "          w ← p\n",
    "       SINON\n",
    "          Ajouter(p, dictionnaire)\n",
    "          Écrire dictionnaire[w]\n",
    "          w ← c\n",
    "    FIN TANT QUE"
   ]
  },
  {
   "cell_type": "markdown",
   "metadata": {},
   "source": [
    "Implementation de l'algorithme :"
   ]
  },
  {
   "cell_type": "code",
   "execution_count": 74,
   "metadata": {
    "scrolled": false
   },
   "outputs": [],
   "source": [
    "#Implementation de l'algo : \n",
    "for symbol in input_file:                     \n",
    "    string_plus_symbol = string + symbol # get input symbol.\n",
    "    if string_plus_symbol in dictionary: \n",
    "        string = string_plus_symbol\n",
    "    else:\n",
    "        compressed_data.append(dictionary[string])\n",
    "        if(len(dictionary) <= maximum_table_size):\n",
    "            dictionary[string_plus_symbol] = dictionary_size\n",
    "            dictionary_size += 1\n",
    "        string = symbol\n",
    "\n",
    "if string in dictionary:\n",
    "    compressed_data.append(dictionary[string])"
   ]
  },
  {
   "cell_type": "markdown",
   "metadata": {},
   "source": [
    "Affichage des données compressées pour vérification :"
   ]
  },
  {
   "cell_type": "code",
   "execution_count": 75,
   "metadata": {},
   "outputs": [],
   "source": [
    "#print(compressed_data)"
   ]
  },
  {
   "cell_type": "markdown",
   "metadata": {},
   "source": [
    "Enregistrement des données dans un fichier (binaire) : "
   ]
  },
  {
   "cell_type": "code",
   "execution_count": 76,
   "metadata": {},
   "outputs": [],
   "source": [
    "output_file = open(\"./files/texte_encoded.txt\", \"wb\")\n",
    "for data in compressed_data:\n",
    "    output_file.write(pack('>H',int(data)))\n",
    "    \n",
    "output_file.close()\n",
    "fichier.close()"
   ]
  },
  {
   "cell_type": "markdown",
   "metadata": {},
   "source": [
    "#### Fin de la compression\n",
    "\n",
    "#### Début de la décompression "
   ]
  },
  {
   "cell_type": "markdown",
   "metadata": {},
   "source": [
    "Ouverture de fichier des données compressées : "
   ]
  },
  {
   "cell_type": "code",
   "execution_count": 77,
   "metadata": {
    "scrolled": true
   },
   "outputs": [],
   "source": [
    "file = open('./files/texte_encoded.txt', \"rb\")\n",
    "compressed_data = []\n",
    "next_code = 256\n",
    "decompressed_data = \"\"\n",
    "string = \"\""
   ]
  },
  {
   "cell_type": "markdown",
   "metadata": {},
   "source": [
    "Lecture des données compressées :"
   ]
  },
  {
   "cell_type": "code",
   "execution_count": 78,
   "metadata": {
    "collapsed": true
   },
   "outputs": [],
   "source": [
    "while True:\n",
    "    rec = file.read(2)\n",
    "    if len(rec) != 2:\n",
    "        break\n",
    "    (data, ) = unpack('>H', rec)\n",
    "    compressed_data.append(data)"
   ]
  },
  {
   "cell_type": "markdown",
   "metadata": {},
   "source": [
    "Contruction et initialisation du dictionnaire : "
   ]
  },
  {
   "cell_type": "code",
   "execution_count": 79,
   "metadata": {
    "collapsed": true
   },
   "outputs": [],
   "source": [
    "dictionary_size = 256\n",
    "dictionary = dict([(x, chr(x)) for x in range(dictionary_size)])"
   ]
  },
  {
   "cell_type": "markdown",
   "metadata": {},
   "source": [
    "##### Algorithme de décompression :\n",
    "\n",
    "FONCTION LZW_Décompresser(Code, dictionnaire)\n",
    "\n",
    "     n ← |Code|\n",
    "     v ← Lire(Code)\n",
    "     Écrire dictionnaire[v]\n",
    "     w ← chr(v)\n",
    "\n",
    "     POUR i ALLANT DE 2 à n FAIRE\n",
    "        v ← Lire(Code)\n",
    "        SI Existe(v, dictionnaire) ALORS\n",
    "          entrée ← dictionnaire[v]\n",
    "        SINON entrée ← Concaténer(w, w[0])\n",
    "        Écrire entrée\n",
    "        Ajouter(Concaténer(w,entrée[0]), dictionnaire)\n",
    "        w ← entrée\n",
    "     FIN POUR"
   ]
  },
  {
   "cell_type": "markdown",
   "metadata": {},
   "source": [
    "Application de l'agorithme :"
   ]
  },
  {
   "cell_type": "code",
   "execution_count": 80,
   "metadata": {
    "collapsed": true
   },
   "outputs": [],
   "source": [
    "#Application de l'algo\n",
    "for code in compressed_data:\n",
    "    if not(code in dictionary):\n",
    "        dictionary[code] = string + (string[0])\n",
    "    decompressed_data += dictionary[code]\n",
    "    if not(len(string)==0):\n",
    "        dictionary[next_code] = string + (dictionary[code][0])\n",
    "        next_code += 1\n",
    "    string = dictionary[code]"
   ]
  },
  {
   "cell_type": "markdown",
   "metadata": {},
   "source": [
    "Affichage des données décompressées : "
   ]
  },
  {
   "cell_type": "code",
   "execution_count": 81,
   "metadata": {},
   "outputs": [],
   "source": [
    "#print(decompressed_data)"
   ]
  },
  {
   "cell_type": "markdown",
   "metadata": {},
   "source": [
    "Enregistrement des données décompressées dans un fichier :"
   ]
  },
  {
   "cell_type": "code",
   "execution_count": 82,
   "metadata": {},
   "outputs": [],
   "source": [
    "#Enregistrement des données décompressées dans un fichier\n",
    "output_file = open(\"./files/texte_decoded.txt\", \"w\")\n",
    "for data in decompressed_data:\n",
    "    output_file.write(data)\n",
    "output_file.close()\n",
    "file.close()"
   ]
  },
  {
   "cell_type": "markdown",
   "metadata": {},
   "source": [
    "#### Fin de la décompression. \n",
    "\n",
    "#### Résultats : \n",
    "\n",
    "Affichage des resultats de la compression Lempel-Ziv-Welsh :"
   ]
  },
  {
   "cell_type": "code",
   "execution_count": 83,
   "metadata": {},
   "outputs": [
    {
     "name": "stdout",
     "output_type": "stream",
     "text": [
      "La taille du texte initial est de : 197664 ko \n",
      "\n",
      "La taille du texte compressé est de : 89012 ko \n",
      "\n",
      "La taille du texte décompressé est de : 197664 ko\n",
      "\n"
     ]
    }
   ],
   "source": [
    "#Affichage des resultats de la compression Lempel-Ziv-Welsh : \n",
    "size_txt = os.path.getsize('./texte.txt')\n",
    "size_txt_encoded = os.path.getsize('./files/texte_encoded.txt')\n",
    "size_txt_decoded = os.path.getsize('./files/texte_decoded.txt')\n",
    "\n",
    "print(\"La taille du texte initial est de :\", size_txt, \"ko \\n\")\n",
    "print(\"La taille du texte compressé est de :\", size_txt_encoded, \"ko \\n\")\n",
    "print(\"La taille du texte décompressé est de :\", size_txt_decoded, \"ko\\n\")"
   ]
  }
 ],
 "metadata": {
  "kernelspec": {
   "display_name": "Python 3",
   "language": "python",
   "name": "python3"
  },
  "language_info": {
   "codemirror_mode": {
    "name": "ipython",
    "version": 3
   },
   "file_extension": ".py",
   "mimetype": "text/x-python",
   "name": "python",
   "nbconvert_exporter": "python",
   "pygments_lexer": "ipython3",
   "version": "3.6.8"
  }
 },
 "nbformat": 4,
 "nbformat_minor": 2
}
